{
 "cells": [
  {
   "cell_type": "code",
   "execution_count": 1,
   "id": "719a1c70-be2e-476e-b031-d3c0a6345347",
   "metadata": {},
   "outputs": [],
   "source": [
    "#function to compute XOR for two hexadecimals of different lengths\n",
    "def hexxor(a, b): \n",
    "    if len(a) > len(b):\n",
    "        c = hex(int(a[:len(b)],16)^int(b,16))[2:]\n",
    "    else:\n",
    "        c = hex(int(a,16)^int(b[:len(a)],16))[2:]\n",
    "    if len(c)%2:\n",
    "        c = \"\".join(['0',c])\n",
    "    return c"
   ]
  },
  {
   "cell_type": "code",
   "execution_count": 2,
   "id": "9e1a5049-69d4-4991-b302-a0006a7c9b95",
   "metadata": {},
   "outputs": [],
   "source": [
    "# Open the file in read mode\n",
    "with open(\"sentences encrypted.txt\", \"r\", encoding=\"utf-8\") as file:\n",
    "    # Read all lines from the file and store them in a list\n",
    "    lines_encrypted = file.readlines()\n",
    "# Strip whitespace and newline characters from each line\n",
    "lines_encrypted = [line.strip() for line in lines_encrypted]"
   ]
  },
  {
   "cell_type": "code",
   "execution_count": 3,
   "id": "44fbc128-1413-42cc-804b-a43b1067a551",
   "metadata": {},
   "outputs": [
    {
     "name": "stdout",
     "output_type": "stream",
     "text": [
      "0063000082590b0045e2032426a900600063332c00d54b4e827fda809c0000af710012c7ac000dc89534000000000000\n"
     ]
    }
   ],
   "source": [
    "cc = lines_encrypted.copy() #To make any changes without affecting the correct lines\n",
    "#To determine the length of the lines in order to create a key matching the longest line\n",
    "ccc = [0]*len(cc) \n",
    "for i in range(len(cc)) : \n",
    "    ccc[i]=len(cc[i])\n",
    "nkey = [0] * max(ccc)\n",
    "#To determine the part of the key to work on, the text must include at least one letter, one space, and another letter different from the first.\n",
    "#This requires at least 3 sentences with lengths equal to or greater than the length we are working on.\n",
    "while (sum(1 for i in ccc if i==max(ccc)) <= 2) : \n",
    "    r=ccc.index(max(ccc))\n",
    "    ccc[r]=max(ccc)-1\n",
    "#Since each character is 1 byte (8 bits), and the length in Hexadecimal is represented as 4 bits per digit, we divide the number of Hex digits by 2\n",
    "#to determine the number of characters or bytes to process\n",
    "for a in range(int(max(ccc) / 2)):\n",
    "    ci = '00' #To place the character from the encrypted line that corresponds to an unencrypted character which is a space (espace)\n",
    "    l = 0 #Just to check if we found the character in the key. If l=1, it means we found the key character; if l=0, it means we didn’t\n",
    "    for i in range(len(cc) - 1):\n",
    "        for j in range(i + 1, len(cc)): #We use 2 loops to perform XOR between all the characters of the lines with each other\n",
    "            if len(cc[i]) <= a * 2 or len(cc[j]) <= a * 2: \n",
    "                continue #To avoid a list index out-of-bounds error\n",
    "            if int(hexxor(cc[i][a * 2], cc[j][a * 2])) in [4, 5, 6, 7]: #If the XOR result is 4, 5, 6, or 7, it means one is a space (espace) and the other is a letter (lettre)\n",
    "                for k in range(len(cc)): #To determine exactly which one is the space (espace)\n",
    "                    if k == i or k == j or len(cc[k]) <= a * 2: \n",
    "                        continue #To avoid a list index out-of-bounds error and performing xor again between i and j\n",
    "                    if int(hexxor(cc[i][a * 2], cc[k][a * 2])) not in [4, 5, 6, 7] and hexxor(cc[i][a * 2:a * 2+2], cc[k][a * 2:a * 2+2]) != '00' :\n",
    "                        ci = cc[j][a * 2:a * 2 + 2]\n",
    "                        break #If the XOR result is different from 4, 5, 6, or 7, it means the operation was between two letters (lettres) or two spaces (espaces).\n",
    "                             #If the result is not 00, it means the operation was between two different letters. Therefore, the other character is a space (espace)\n",
    "                    else:\n",
    "                        ci = cc[i][a * 2:a * 2 + 2] #If all XOR results with the character at index i are also 4, 5, or 6, or 7, it means it is is an espace\n",
    "                l = 1 #because the XOR result is 4, 5, 6, or 7, it means one is a space (espace) and the other is a letter (lettre)\n",
    "                break\n",
    "        if l == 1: #If l=1, it means m is a space (espace). Therefore, the key is the result of XOR between c and the m key we defined\n",
    "            nkey[a * 2:a * 2 + 2] = hexxor(ci, '20') \n",
    "            break\n",
    "    if l == 0: #If we don't get any result, we change c to 21 and key to 00 to get a \"!\" marker wherever we haven't found the key\n",
    "        for i in range(len(cc)): #This loop is for the characters that are smaller than the part of the key we are working on\n",
    "            if len(cc[i]) <= a * 2:\n",
    "                continue #To avoid a list index out-of-bounds error\n",
    "            cc[i] = list(cc[i]) #to change cc from str to list to can perform changes\n",
    "            cc[i][a * 2:a * 2 + 2] = '21' #to change c to 21\n",
    "            cc[i] = ''.join(cc[i]) #to change cc from list to str to can perform hexxor \n",
    "        nkey[a * 2:a * 2 + 2] = '00' #to change k to 00\n",
    "for i in range(len(cc)): #This loop is for the characters that are larger than the part of the key we worked on\n",
    "    if len(cc[i]) > max(ccc) :\n",
    "        cc[i] = list(cc[i])\n",
    "        for j in range(max(ccc),len(cc[i]),2) :\n",
    "            cc[i][j:j+2] = '21'\n",
    "            nkey[j:j+2] = '00'\n",
    "        cc[i] = ''.join(cc[i])\n",
    "nkey = ''.join(nkey)\n",
    "print(nkey) "
   ]
  },
  {
   "cell_type": "code",
   "execution_count": 4,
   "id": "930ce4e3-948d-4b72-9be8-9432d33158ca",
   "metadata": {},
   "outputs": [
    {
     "name": "stdout",
     "output_type": "stream",
     "text": [
      "!T!! ar! fun g!m!s to test ha!!in! sk!lls\n",
      "!h!! ha!e task! !ike web malw!!e !wn !rypt!\n",
      "!T!! he!p you !e!rn how to ha!! a!d s!ay s!!!\n",
      "! !!rk !lone o! !n a team to !!lv! co!l pr!!!!!!\n",
      "!T!! ar! for b!t! new and exp!!t !ecu!ity !!!!\n",
      "!o!! a !TF onl!n! and learn f!!m !nyw!ere !!!!\n",
      "!o!!e t!sks wi! !oints and ha!! f!n i! CTF!\n"
     ]
    }
   ],
   "source": [
    "#to display the characters for which we were able to find the key to decrypt, \n",
    "#while the characters we couldn't decrypt will appear with a \"!\" symbol\n",
    "for i in range(len(cc)) : \n",
    "    print(bytes.fromhex(hexxor(nkey,cc[i])).decode('utf-8'))"
   ]
  },
  {
   "cell_type": "code",
   "execution_count": 5,
   "id": "cbf9594e-b35b-49ce-a317-6c2a67b2cea4",
   "metadata": {},
   "outputs": [],
   "source": [
    "#function to determine the key if we deduced one of the hidden characters in the previous step\n",
    "#l takes the value of the line number where we identified the character, and the line numbers start from 1\n",
    "#i is the character index\n",
    "#c is the character itself\n",
    "#The other variables were explained earlier\n",
    "def pe(l,i,c,nkey,cc,lines_encrypted):\n",
    "    nkey[2*i-2:2*i] = hexxor(lines_encrypted[l-1][2*i-2:2*i], format(ord(c), \"x\")) #Calculate the XOR between the assumed character from the sentences and the byte in the encrypted line to find the key\n",
    "    for j in range(len(cc)) : #To replace the correct encrypted byte with the byte we previously set to 21 as a \"!\" marker, so that when we XOR the key with the encrypted byte, the correct decrypted character appears\n",
    "        cc[j] = list(cc[j])\n",
    "        cc[j][2*i-2:2*i] = lines_encrypted[j][2*i-2:2*i]\n",
    "        cc[j] = ''.join(cc[j])\n",
    "    nkey = ''.join(nkey)\n",
    "    print(nkey)\n",
    "    for i in range(len(cc)) : #To display the sentences with the characters we successfully decrypted\n",
    "        print(bytes.fromhex(hexxor(nkey,cc[i])).decode('utf-8'))"
   ]
  },
  {
   "cell_type": "code",
   "execution_count": 6,
   "id": "e37729b7-f10c-4f7d-b73a-e6e652c0f262",
   "metadata": {},
   "outputs": [
    {
     "name": "stdout",
     "output_type": "stream",
     "text": [
      "7663000082590b0045e2032426a900600063332c00d54b4e827fda809c0000af710012c7ac000dc89534000000000000\n",
      "CT!! ar! fun g!m!s to test ha!!in! sk!lls\n",
      "Th!! ha!e task! !ike web malw!!e !wn !rypt!\n",
      "CT!! he!p you !e!rn how to ha!! a!d s!ay s!!!\n",
      "I !!rk !lone o! !n a team to !!lv! co!l pr!!!!!!\n",
      "CT!! ar! for b!t! new and exp!!t !ecu!ity !!!!\n",
      "Jo!! a !TF onl!n! and learn f!!m !nyw!ere !!!!\n",
      "So!!e t!sks wi! !oints and ha!! f!n i! CTF!\n"
     ]
    }
   ],
   "source": [
    "#In the fourth sentence, we have \"! !!rk...\", which indicates a letter and a space followed by a word. \n",
    "#Thus, the first letter in this sentence is likely \"I\"\n",
    "#We will continue with this approach using other words like \"g!mes\" which clarify \"games\"...\n",
    "#until we find the full key and decrypt all the sentences \n",
    "nkey = list(nkey)\n",
    "pe(4,1,\"I\",nkey,cc,lines_encrypted)"
   ]
  },
  {
   "cell_type": "code",
   "execution_count": 7,
   "id": "833d8e6f-4367-43b4-994a-54607c494387",
   "metadata": {},
   "outputs": [
    {
     "name": "stdout",
     "output_type": "stream",
     "text": [
      "7663440082590b0045e2032426a900600063332c00d54b4e827fda809c0000af710012c7ac000dc89534000000000000\n",
      "CTF! ar! fun g!m!s to test ha!!in! sk!lls\n",
      "The! ha!e task! !ike web malw!!e !wn !rypt!\n",
      "CTF! he!p you !e!rn how to ha!! a!d s!ay s!!!\n",
      "I w!rk !lone o! !n a team to !!lv! co!l pr!!!!!!\n",
      "CTF! ar! for b!t! new and exp!!t !ecu!ity !!!!\n",
      "Joi! a !TF onl!n! and learn f!!m !nyw!ere !!!!\n",
      "Sol!e t!sks wi! !oints and ha!! f!n i! CTF!\n"
     ]
    }
   ],
   "source": [
    "nkey = list(nkey)\n",
    "pe(2,3,\"e\",nkey,cc,lines_encrypted)"
   ]
  },
  {
   "cell_type": "code",
   "execution_count": 8,
   "id": "a8834493-fb43-4564-9d53-6c5d89954ef5",
   "metadata": {},
   "outputs": [
    {
     "name": "stdout",
     "output_type": "stream",
     "text": [
      "7663446182590b0045e2032426a900600063332c00d54b4e827fda809c0000af710012c7ac000dc89534000000000000\n",
      "CTFs ar! fun g!m!s to test ha!!in! sk!lls\n",
      "They ha!e task! !ike web malw!!e !wn !rypt!\n",
      "CTFs he!p you !e!rn how to ha!! a!d s!ay s!!!\n",
      "I work !lone o! !n a team to !!lv! co!l pr!!!!!!\n",
      "CTFs ar! for b!t! new and exp!!t !ecu!ity !!!!\n",
      "Join a !TF onl!n! and learn f!!m !nyw!ere !!!!\n",
      "Solve t!sks wi! !oints and ha!! f!n i! CTF!\n"
     ]
    }
   ],
   "source": [
    "nkey = list(nkey)\n",
    "pe(2,4,\"y\",nkey,cc,lines_encrypted)"
   ]
  },
  {
   "cell_type": "code",
   "execution_count": 9,
   "id": "c9f8d731-172d-4d54-bfad-c588684a8f86",
   "metadata": {},
   "outputs": [
    {
     "name": "stdout",
     "output_type": "stream",
     "text": [
      "7663446182590b0345e2032426a900600063332c00d54b4e827fda809c0000af710012c7ac000dc89534000000000000\n",
      "CTFs are fun g!m!s to test ha!!in! sk!lls\n",
      "They have task! !ike web malw!!e !wn !rypt!\n",
      "CTFs help you !e!rn how to ha!! a!d s!ay s!!!\n",
      "I work alone o! !n a team to !!lv! co!l pr!!!!!!\n",
      "CTFs are for b!t! new and exp!!t !ecu!ity !!!!\n",
      "Join a CTF onl!n! and learn f!!m !nyw!ere !!!!\n",
      "Solve tasks wi! !oints and ha!! f!n i! CTF!\n"
     ]
    }
   ],
   "source": [
    "nkey = list(nkey)\n",
    "pe(7,8,\"a\",nkey,cc,lines_encrypted)"
   ]
  },
  {
   "cell_type": "code",
   "execution_count": 10,
   "id": "f38ca879-35be-4604-9107-efaad25e51ed",
   "metadata": {},
   "outputs": [
    {
     "name": "stdout",
     "output_type": "stream",
     "text": [
      "7663446182590b0345e2032426a9bc600063332c00d54b4e827fda809c0000af710012c7ac000dc89534000000000000\n",
      "CTFs are fun gam!s to test ha!!in! sk!lls\n",
      "They have tasks !ike web malw!!e !wn !rypt!\n",
      "CTFs help you le!rn how to ha!! a!d s!ay s!!!\n",
      "I work alone or !n a team to !!lv! co!l pr!!!!!!\n",
      "CTFs are for bot! new and exp!!t !ecu!ity !!!!\n",
      "Join a CTF onlin! and learn f!!m !nyw!ere !!!!\n",
      "Solve tasks win !oints and ha!! f!n i! CTF!\n"
     ]
    }
   ],
   "source": [
    "nkey = list(nkey)\n",
    "pe(1,15,\"a\",nkey,cc,lines_encrypted)"
   ]
  },
  {
   "cell_type": "code",
   "execution_count": 11,
   "id": "3f84f76c-8a4d-4856-8bda-bdc4995ac8e1",
   "metadata": {},
   "outputs": [
    {
     "name": "stdout",
     "output_type": "stream",
     "text": [
      "7663446182590b0345e2032426a9bc608f63332c00d54b4e827fda809c0000af710012c7ac000dc89534000000000000\n",
      "CTFs are fun games to test ha!!in! sk!lls\n",
      "They have tasks like web malw!!e !wn !rypt!\n",
      "CTFs help you learn how to ha!! a!d s!ay s!!!\n",
      "I work alone or in a team to !!lv! co!l pr!!!!!!\n",
      "CTFs are for both new and exp!!t !ecu!ity !!!!\n",
      "Join a CTF online and learn f!!m !nyw!ere !!!!\n",
      "Solve tasks win points and ha!! f!n i! CTF!\n"
     ]
    }
   ],
   "source": [
    "nkey = list(nkey)\n",
    "pe(1,17,\"e\",nkey,cc,lines_encrypted)"
   ]
  },
  {
   "cell_type": "code",
   "execution_count": 12,
   "id": "03f2762b-ff04-4cf6-8b3a-86cbf8a6cf91",
   "metadata": {},
   "outputs": [
    {
     "name": "stdout",
     "output_type": "stream",
     "text": [
      "7663446182590b0345e2032426a9bc608f63332c00d54b4e827fda809c0000af710012c7ac000dc89534000000000000\n",
      "CTFs are fun games to test ha!!in! sk!lls\n",
      "They have tasks like web malw!!e !wn !rypt!\n",
      "CTFs help you learn how to ha!! a!d s!ay s!!!\n",
      "I work alone or in a team to !!lv! co!l pr!!!!!!\n",
      "CTFs are for both new and exp!!t !ecu!ity !!!!\n",
      "Join a CTF online and learn f!!m !nyw!ere !!!!\n",
      "Solve tasks win points and ha!! f!n i! CTF!\n"
     ]
    }
   ],
   "source": [
    "nkey = list(nkey)\n",
    "pe(2,29,\"w\",nkey,cc,lines_encrypted)"
   ]
  },
  {
   "cell_type": "code",
   "execution_count": 13,
   "id": "c767c323-6b9a-442f-9f59-95f37389108b",
   "metadata": {},
   "outputs": [
    {
     "name": "stdout",
     "output_type": "stream",
     "text": [
      "7663446182590b0345e2032426a9bc608f63332c00d54b4e827fda809cb000af710012c7ac000dc89534000000000000\n",
      "CTFs are fun games to test hac!in! sk!lls\n",
      "They have tasks like web malwa!e !wn !rypt!\n",
      "CTFs help you learn how to hac! a!d s!ay s!!!\n",
      "I work alone or in a team to s!lv! co!l pr!!!!!!\n",
      "CTFs are for both new and expe!t !ecu!ity !!!!\n",
      "Join a CTF online and learn fr!m !nyw!ere !!!!\n",
      "Solve tasks win points and hav! f!n i! CTF!\n"
     ]
    }
   ],
   "source": [
    "nkey = list(nkey)\n",
    "pe(2,30,\"a\",nkey,cc,lines_encrypted)"
   ]
  },
  {
   "cell_type": "code",
   "execution_count": 14,
   "id": "f0cc9056-e1f9-497f-b7dd-b710eeac5d9d",
   "metadata": {},
   "outputs": [
    {
     "name": "stdout",
     "output_type": "stream",
     "text": [
      "7663446182590b0345e2032426a9bc608f63332c00d54b4e827fda809cb09caf710012c7ac000dc89534000000000000\n",
      "CTFs are fun games to test hackin! sk!lls\n",
      "They have tasks like web malware !wn !rypt!\n",
      "CTFs help you learn how to hack a!d s!ay s!!!\n",
      "I work alone or in a team to solv! co!l pr!!!!!!\n",
      "CTFs are for both new and expert !ecu!ity !!!!\n",
      "Join a CTF online and learn from !nyw!ere !!!!\n",
      "Solve tasks win points and have f!n i! CTF!\n"
     ]
    }
   ],
   "source": [
    "nkey = list(nkey)\n",
    "pe(2,31,\"r\",nkey,cc,lines_encrypted)"
   ]
  },
  {
   "cell_type": "code",
   "execution_count": 15,
   "id": "fad5a0d1-6f62-4886-bfde-7bbfc77eca87",
   "metadata": {},
   "outputs": [
    {
     "name": "stdout",
     "output_type": "stream",
     "text": [
      "7663446182590b0345e2032426a9bc608f63332c00d54b4e827fda809cb09caf716612c7ac000dc89534000000000000\n",
      "CTFs are fun games to test hacking sk!lls\n",
      "They have tasks like web malware pwn !rypt!\n",
      "CTFs help you learn how to hack and s!ay s!!!\n",
      "I work alone or in a team to solve co!l pr!!!!!!\n",
      "CTFs are for both new and expert secu!ity !!!!\n",
      "Join a CTF online and learn from anyw!ere !!!!\n",
      "Solve tasks win points and have fun i! CTF!\n"
     ]
    }
   ],
   "source": [
    "nkey = list(nkey)\n",
    "pe(1,34,\"g\",nkey,cc,lines_encrypted)"
   ]
  },
  {
   "cell_type": "code",
   "execution_count": 16,
   "id": "b51bd497-096e-4aa9-bc6b-5da09ac9a49c",
   "metadata": {},
   "outputs": [
    {
     "name": "stdout",
     "output_type": "stream",
     "text": [
      "7663446182590b0345e2032426a9bc608f63332c00d54b4e827fda809cb09caf716612c7acb80dc89534000000000000\n",
      "CTFs are fun games to test hacking skills\n",
      "They have tasks like web malware pwn crypt!\n",
      "CTFs help you learn how to hack and stay s!!!\n",
      "I work alone or in a team to solve cool pr!!!!!!\n",
      "CTFs are for both new and expert security !!!!\n",
      "Join a CTF online and learn from anywhere !!!!\n",
      "Solve tasks win points and have fun in CTF!\n"
     ]
    }
   ],
   "source": [
    "nkey = list(nkey)\n",
    "pe(5,38,\"r\",nkey,cc,lines_encrypted)"
   ]
  },
  {
   "cell_type": "code",
   "execution_count": 17,
   "id": "11419700-e376-465f-ae92-5243d6c9662a",
   "metadata": {},
   "outputs": [
    {
     "name": "stdout",
     "output_type": "stream",
     "text": [
      "7663446182590b0345e2032426a9bc608f63332c00d54b4e827fda809cb09caf716612c7acb80dc89534000000000000\n",
      "CTFs are fun games to test hacking skills\n",
      "They have tasks like web malware pwn crypt!\n",
      "CTFs help you learn how to hack and stay s!!!\n",
      "I work alone or in a team to solve cool pr!!!!!!\n",
      "CTFs are for both new and expert security !!!!\n",
      "Join a CTF online and learn from anywhere !!!!\n",
      "Solve tasks win points and have fun in CTF!\n"
     ]
    }
   ],
   "source": [
    "nkey = list(nkey)\n",
    "pe(1,40,\"l\",nkey,cc,lines_encrypted)"
   ]
  },
  {
   "cell_type": "code",
   "execution_count": 18,
   "id": "3d926bda-1b9f-437e-aaca-7b3ec012c723",
   "metadata": {},
   "outputs": [
    {
     "name": "stdout",
     "output_type": "stream",
     "text": [
      "7663446182590b0345e2032426a9bc608f63332c00d54b4e827fda809cb09caf716612c7acb80dc89534b30000000000\n",
      "CTFs are fun games to test hacking skills\n",
      "They have tasks like web malware pwn crypto\n",
      "CTFs help you learn how to hack and stay sa!!\n",
      "I work alone or in a team to solve cool pro!!!!!\n",
      "CTFs are for both new and expert security f!!!\n",
      "Join a CTF online and learn from anywhere f!!!\n",
      "Solve tasks win points and have fun in CTFs\n"
     ]
    }
   ],
   "source": [
    "nkey = list(nkey)\n",
    "pe(2,43,\"o\",nkey,cc,lines_encrypted)"
   ]
  },
  {
   "cell_type": "code",
   "execution_count": 19,
   "id": "1c7a5c18-1c75-49d9-8d85-d5f4c6561597",
   "metadata": {},
   "outputs": [
    {
     "name": "stdout",
     "output_type": "stream",
     "text": [
      "7663446182590b0345e2032426a9bc608f63332c00d54b4e827fda809cb09caf716612c7acb80dc89534b34200000000\n",
      "CTFs are fun games to test hacking skills\n",
      "They have tasks like web malware pwn crypto\n",
      "CTFs help you learn how to hack and stay saf!\n",
      "I work alone or in a team to solve cool prob!!!!\n",
      "CTFs are for both new and expert security fa!!\n",
      "Join a CTF online and learn from anywhere fa!!\n",
      "Solve tasks win points and have fun in CTFs\n"
     ]
    }
   ],
   "source": [
    "nkey = list(nkey)\n",
    "pe(4,44,\"b\",nkey,cc,lines_encrypted)"
   ]
  },
  {
   "cell_type": "code",
   "execution_count": 20,
   "id": "81957929-bcf9-4401-8c86-b02e3a4d1858",
   "metadata": {},
   "outputs": [
    {
     "name": "stdout",
     "output_type": "stream",
     "text": [
      "7663446182590b0345e2032426a9bc608f63332c00d54b4e827fda809cb09caf716612c7acb80dc89534b342c5000000\n",
      "CTFs are fun games to test hacking skills\n",
      "They have tasks like web malware pwn crypto\n",
      "CTFs help you learn how to hack and stay safe\n",
      "I work alone or in a team to solve cool probl!!!\n",
      "CTFs are for both new and expert security fan!\n",
      "Join a CTF online and learn from anywhere fas!\n",
      "Solve tasks win points and have fun in CTFs\n"
     ]
    }
   ],
   "source": [
    "nkey = list(nkey)\n",
    "pe(4,45,\"l\",nkey,cc,lines_encrypted)"
   ]
  },
  {
   "cell_type": "code",
   "execution_count": 21,
   "id": "60b4e00c-920f-48f0-81d5-7468137cdd45",
   "metadata": {},
   "outputs": [
    {
     "name": "stdout",
     "output_type": "stream",
     "text": [
      "7663446182590b0345e2032426a9bc608f63332c00d54b4e827fda809cb09caf716612c7acb80dc89534b342c5380000\n",
      "CTFs are fun games to test hacking skills\n",
      "They have tasks like web malware pwn crypto\n",
      "CTFs help you learn how to hack and stay safe\n",
      "I work alone or in a team to solve cool proble!!\n",
      "CTFs are for both new and expert security fans\n",
      "Join a CTF online and learn from anywhere fast\n",
      "Solve tasks win points and have fun in CTFs\n"
     ]
    }
   ],
   "source": [
    "nkey = list(nkey)\n",
    "pe(4,46,\"e\",nkey,cc,lines_encrypted)"
   ]
  },
  {
   "cell_type": "code",
   "execution_count": 22,
   "id": "c16c1ff7-ab80-4f71-986c-55e62ab09b4f",
   "metadata": {},
   "outputs": [
    {
     "name": "stdout",
     "output_type": "stream",
     "text": [
      "7663446182590b0345e2032426a9bc608f63332c00d54b4e827fda809cb09caf716612c7acb80dc89534b342c538b600\n",
      "CTFs are fun games to test hacking skills\n",
      "They have tasks like web malware pwn crypto\n",
      "CTFs help you learn how to hack and stay safe\n",
      "I work alone or in a team to solve cool problem!\n",
      "CTFs are for both new and expert security fans\n",
      "Join a CTF online and learn from anywhere fast\n",
      "Solve tasks win points and have fun in CTFs\n"
     ]
    }
   ],
   "source": [
    "nkey = list(nkey)\n",
    "pe(4,47,\"m\",nkey,cc,lines_encrypted)"
   ]
  },
  {
   "cell_type": "code",
   "execution_count": 23,
   "id": "a006846f-3977-45a9-8377-eeb293d2c254",
   "metadata": {},
   "outputs": [
    {
     "name": "stdout",
     "output_type": "stream",
     "text": [
      "7663446182590b0345e2032426a9bc608f63332c00d54b4e827fda809cb09caf716612c7acb80dc89534b342c538b636\n",
      "CTFs are fun games to test hacking skills\n",
      "They have tasks like web malware pwn crypto\n",
      "CTFs help you learn how to hack and stay safe\n",
      "I work alone or in a team to solve cool problems\n",
      "CTFs are for both new and expert security fans\n",
      "Join a CTF online and learn from anywhere fast\n",
      "Solve tasks win points and have fun in CTFs\n"
     ]
    }
   ],
   "source": [
    "nkey = list(nkey)\n",
    "pe(4,48,\"s\",nkey,cc,lines_encrypted)"
   ]
  },
  {
   "cell_type": "code",
   "execution_count": null,
   "id": "ecf661bf-902e-41c5-a143-35e4879966c3",
   "metadata": {},
   "outputs": [],
   "source": []
  }
 ],
 "metadata": {
  "kernelspec": {
   "display_name": "Python 3 (ipykernel)",
   "language": "python",
   "name": "python3"
  },
  "language_info": {
   "codemirror_mode": {
    "name": "ipython",
    "version": 3
   },
   "file_extension": ".py",
   "mimetype": "text/x-python",
   "name": "python",
   "nbconvert_exporter": "python",
   "pygments_lexer": "ipython3",
   "version": "3.13.0"
  }
 },
 "nbformat": 4,
 "nbformat_minor": 5
}
